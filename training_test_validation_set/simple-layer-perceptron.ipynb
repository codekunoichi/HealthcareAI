{
 "cells": [
  {
   "cell_type": "markdown",
   "metadata": {},
   "source": [
    "# Single-Layer and Multi-Layer Perceptrons in Python\n",
    "\n",
    "**Jessica Cervi**\n",
    "\n",
    "\n",
    "## Activity Overview \n",
    "\n",
    "A neural network (NN) is based on a collection of connected units or nodes called artificial neurons, which loosely model the neurons in a biological brain. The basic unit is the perceptron. Each perceptron has connections, like the synapses in a biological brain, that can compute and transmit a signal to other units (neurons).\n",
    "\n",
    "In this notebook, we first build a very simple version of a single perceptron by hand, and use it to make a prediction on the Titanic dataset. Then, you'll learn how to handle the implementation of a perceptron using `sklearn`.\n",
    "\n",
    "This activity is designed to help you apply the machine learning algorithms you have learned using the packages in `Python`. `Python` concepts, instructions, and starter code are embedded within this Jupyter Notebook to help guide you as you progress through the activity. Remember to run the code of each code cell prior to submitting the assignment. Upon completing the activity, we encourage you to compare your work against the solution file to perform a self-assessment.\n",
    "\n",
    "## Index:\n",
    "\n",
    "#### Week 3:  Single-Layer Perceptron\n",
    "\n",
    "\n",
    "- [Part 1](#part1) -  Basics of Artificial Neural Networks\n",
    "- [Part 2](#part2) -  Problem Setup\n",
    "- [Part 3](#part3) -  Perceptron\n",
    "- [Part 4](#part4) - Implementing the Perceptron\n",
    "- [Part 5](#part5) - Single Layer Perceptron in `sklearn`\n"
   ]
  },
  {
   "cell_type": "markdown",
   "metadata": {},
   "source": [
    "[Back to top](#Index:) \n",
    "\n",
    "<a id='part1'></a>\n",
    "\n",
    "# Basics of Artificial Neural Networks <a></a>\n",
    "\n",
    "Artificial neural networks (ANNs or simply NNs) are computing systems that are inspired by, but not identical to, biological neural networks that constitute animal brains. Such systems learn to perform tasks by considering examples, generally without being programmed with task-specific rules.\n",
    "\n",
    "An NN is based on a collection of connected units or nodes called artificial neurons, which loosely model the neurons in a biological brain. The basic unit is the perceptron. Each perceptron has connections, like the synapses in a biological brain, that can compute and transmit a signal to other units (neurons).\n",
    "\n",
    "In ANN implementations, the \"signal\" at a connection is a real number, and the output of each neuron is computed by some non-linear function of the sum of its inputs. The connections are called *edges*. Neurons and edges typically have a weight that adjusts as the learning proceeds. The weight increases or decreases the strength of the signal at a connection. Neurons may have a threshold such that a strong signal is sent only if the aggregate signal crosses that threshold. Typically, neurons are aggregated into layers. Different layers may perform different transformations on their inputs. Signals travel from the first layer (the input layer), to the last layer (the output layer), possibly after traversing the layers multiple times.\n",
    "\n",
    "\n",
    "### Single-Layer and Multi-Layer Perceptrons\n",
    "A single-layer perceptron (SLP) is a feed-forward network based on a threshold transfer function. SLP is the simplest type of ANN. Even though simple, an SLP can be used to classify linearly separable cases with a binary target (1, 0).\n",
    "\n",
    "A multi-layer perceptron (MLP) has one or more hidden layers, each having a structure the same as or similar to a single-layer perceptron. A backpropagation algorithm is used to train or learn the weights in an MLP. The backpropagation algorithm consists of two phases: the forward phase, where the activations are propagated from the input to the output layer, and the backward phase, where the error between the observed actual and requested nominal value in the output layer is propagated backwards in order to modify the weights and bias values.\n",
    "\n",
    "<img src=\"images/layers.png\" alt=\"Drawing\" style=\"width: 300px;\"/>\n",
    "\n",
    "\n",
    "## About the Dataset\n",
    "\n",
    "### Reading the Data\n",
    "The dataset used here is from Kaggle *[Titanic: Machine Learning from Disaster](https://www.kaggle.com/c/titanic/data).* \n",
    "\n",
    "The training set will be used to build your machine learning models. For the training set, we provide the outcome (also known as the “ground truth”) for each passenger. Our model will be based on “features” like the passengers’ gender and class, and we'll use feature engineering to create new features. We'll use the training set to learn weights in the model.\n",
    "\n",
    "The test set will  be used to see how well your model performs on unseen data. For the test set, we don't provide the ground truth for each passenger. It's our job to predict these outcomes. For each passenger in the test set, use the model you trained to predict whether they survived the sinking of the Titanic.\n",
    "\n",
    "In the code cell below, we have imported the necessary libraries `NumPy`, `pandas` and the visualization libraries `seaborn` and `matplotlib`. We also have set a random seed for reproducibility of the results.\n",
    "\n",
    "Next, we read the training and testing datasets and assign them to the dataframe `data_train`."
   ]
  },
  {
   "cell_type": "code",
   "execution_count": null,
   "metadata": {
    "_cell_guid": "b1076dfc-b9ad-4769-8c92-a6c4dae69d19",
    "_uuid": "8f2839f25d086af736a60e9eeb907d3b93b6e0e5"
   },
   "outputs": [],
   "source": [
    "import numpy as np # linear algebra\n",
    "np.random.seed(10)\n",
    "import pandas as pd # data processing, CSV file I/O (e.g., pd.read_csv)\n",
    "import matplotlib.pyplot as plt\n",
    "import seaborn as sns\n",
    "\n",
    "# Required magic to display matplotlib plots in notebooks\n",
    "%matplotlib inline\n",
    "\n",
    "#reading the files        \n",
    "data_train = pd.read_csv('./data/train.csv')"
   ]
  },
  {
   "cell_type": "markdown",
   "metadata": {},
   "source": [
    "In the code cell below, we used the function `head()` with argument 4 to display the first four rows of the dataset. You should adjust the code below to display eight rows in the dataset."
   ]
  },
  {
   "cell_type": "code",
   "execution_count": null,
   "metadata": {},
   "outputs": [],
   "source": [
    "data_train.head(...)"
   ]
  },
  {
   "cell_type": "markdown",
   "metadata": {},
   "source": [
    "[Back to top](#Index:) \n",
    "\n",
    "<a id='part2'></a>\n",
    "\n",
    "## Problem Setup\n",
    "\n",
    "In this short activity, we'll manually build a very basic multi-layer perceptron to predict if a set of passengers has survived.\n",
    "\n",
    "In the code below, we have defined a dictonary `dict_live`, which maps the entries in the column `Survived` from 0 and 1 to `Perished` and `Survived`, respectively."
   ]
  },
  {
   "cell_type": "code",
   "execution_count": null,
   "metadata": {},
   "outputs": [],
   "source": [
    "# We define a dictionary to transform the 0,1 values in the \n",
    "# labels to a String that defines the fate of the passenger\n",
    "dict_live = { \n",
    "    0 : 'Perished',\n",
    "    1 : 'Survived'\n",
    "}"
   ]
  },
  {
   "cell_type": "markdown",
   "metadata": {},
   "source": [
    "In the code below, fill the ellipsis in the definition of the dictonary `dict_sex` to map the entries in the column `Sex` from `male` and `female` to `0` and `1`, respectively."
   ]
  },
  {
   "cell_type": "code",
   "execution_count": null,
   "metadata": {},
   "outputs": [],
   "source": [
    "# We define a dictionary to assign labels 0 or 1\n",
    "# corresponding to the sex\n",
    "dict_sex = {\n",
    "    '...' : ...,\n",
    "    '...' : ...\n",
    "}"
   ]
  },
  {
   "cell_type": "markdown",
   "metadata": {},
   "source": [
    "Run the code cell below, to create the column `Bsex` with the values in `dict_sex` and append it to the dataframe. After running, you should see this new data as the right-most column in the dataframe."
   ]
  },
  {
   "cell_type": "code",
   "execution_count": null,
   "metadata": {},
   "outputs": [],
   "source": [
    "#We apply the dictionary using a lambda function and the pandas .apply() module\n",
    "data_train['Bsex'] = data_train['Sex'].apply(lambda x: dict_sex[x])\n",
    "\n",
    "#This line displasy the dataframe with the new column\n",
    "data_train.head()"
   ]
  },
  {
   "cell_type": "markdown",
   "metadata": {},
   "source": [
    "Before implementing the perpeptron in `Python`, we need to define the feature that we are going to use for our prediction.\n",
    "\n",
    "In the code cell below, fill the ellipsis with `Pclass` and `BSex` to indicate a list with these two values as our two-dimensional feature vector. Note that we used the function `to_numpy()` to convert our features to `NumPy` arrays."
   ]
  },
  {
   "cell_type": "code",
   "execution_count": null,
   "metadata": {},
   "outputs": [],
   "source": [
    "# Now the features are a 2 column matrix whose entries are \n",
    "# the Class (1,2,3) and the Sex (0,1) of the passengers\n",
    "features = data_train[['...', '...']].to_numpy()\n",
    "print(features)\n",
    "\n",
    "\n"
   ]
  },
  {
   "cell_type": "markdown",
   "metadata": {},
   "source": [
    "[Back to top](#Index:) \n",
    "\n",
    "<a id='part3'></a>\n",
    "\n",
    "# Perceptron\n",
    "\n",
    "The perceptron is a basic unit or function that mimics the human neuron. It receives a vector (i.e., array) $x_i$ of signals, where $i$ stands for the $i$-th input; then weighs each of them by a vector of weights $w_i$. It also adds a *bias*, $w_0$, to shift the decision boundary away from the origin as needed.\n",
    "\n",
    "<img src=\"images/perceptro.png\" alt=\"Drawing\" style=\"width: 400px;\"/>\n",
    "\n",
    "Thus, the intermediate value $z$ is given by $z = w_0 + \\sum_{i=1}^m w_i x_i = w_0 + \\mathbf{w}^T \\cdot \\mathbf{x}.$ \n",
    "\n",
    "### Activation Functions\n",
    "\n",
    "The perceptron next ignites an output through an activation function acting on the intermediate value $z$ (note: $z$ is sometimes called the *pre-activation* value, since it is fed to the activation function). Activation functions can vary, but the ones that we will consider here are:\n",
    "\n",
    "\n",
    "#### The *sigmoid* Function\n",
    "$$\\phi(z) = \\frac{1}{1+e^{-z}} \\,,$$\n",
    "\n",
    "<img src=\"images/sigmoid.png\" alt=\"Drawing\" style=\"width: 400px;\"/>\n",
    "\n",
    "#### The Rectified Linear Unit (ReLU)\n",
    "\n",
    "$$\\phi(z) = \\mathrm{max}(0, z) \\,,$$\n",
    "<img src=\"images/relu.png\" alt=\"Drawing\" style=\"width: 400px;\"/>\n",
    "\n",
    "### Output\n",
    "Combining the weighted linear combination (that calculates $z$) with the activation function $\\phi$, we see that the output $a$ of the perceptron is given by\n",
    "\n",
    "$$a = \\phi(z) = \\phi \\left( \\sum_{i=1}^{n} w_i \\, x_i + w_0   \\right) ,$$\n",
    "\n",
    "or, in vector representation: \n",
    "\n",
    "$$a = \\phi(z) = \\phi \\left(\\mathbf{w}^T \\cdot \\mathbf{x} + w_0  \\right) \\,.$$"
   ]
  },
  {
   "cell_type": "markdown",
   "metadata": {},
   "source": [
    "[Back to top](#Index:) \n",
    "\n",
    "<a id='part4'></a>\n",
    "\n",
    "## Implementing the Perceptron\n",
    "\n",
    "Below, we present you with a simple implementation of the perceptron.\n",
    "\n",
    "First, we need to define two functions in `Python`, `sigmoid_act` and `ReLu_act`, for the activations.\n",
    "\n",
    "#### `sigmoid_act`\n",
    "\n",
    "The function `sigmoid_act` takes as argument a vector `z`and returns the output `a`."
   ]
  },
  {
   "cell_type": "code",
   "execution_count": null,
   "metadata": {},
   "outputs": [],
   "source": [
    "# Define the sigmoid activator\n",
    "def sigmoid_act(z):\n",
    "    # sigmoid\n",
    "    a = 1/(1+ np.exp(-z))\n",
    "    return a"
   ]
  },
  {
   "cell_type": "markdown",
   "metadata": {},
   "source": [
    "#### `ReLU_act`\n",
    "\n",
    "The function `ReLU_act` takes as argument a vector `z`and returns the output `a`."
   ]
  },
  {
   "cell_type": "code",
   "execution_count": null,
   "metadata": {
    "_cell_guid": "79c7e3d0-c299-4dcb-8224-4455121ee9b0",
    "_uuid": "d629ff2d2480ee46fbb7e2d37f6b5fab8052498a"
   },
   "outputs": [],
   "source": [
    "# We may employ the Rectifier Linear Unit (ReLU)\n",
    "def ReLU_act(z):\n",
    "    return max(0, z)"
   ]
  },
  {
   "cell_type": "markdown",
   "metadata": {},
   "source": [
    "Now, we are ready to define the perceptron.\n",
    "\n",
    "In the code cell below, we have defined a function, `perceptron`, that takes as input an array `X` representing the features in the dataframe that we wish to use and the argument `act` selecting the activation function.\n",
    "\n",
    "Run the code cell below."
   ]
  },
  {
   "cell_type": "code",
   "execution_count": null,
   "metadata": {},
   "outputs": [],
   "source": [
    "def perceptron(X, act): \n",
    "    np.random.seed(1) #seed for reproducibilty\n",
    "    shapes = X.shape #get the number of (rows, columns)\n",
    "    n = shapes[0] + shapes[1] #adding the number of rows and colums\n",
    "    # Generating random weights and bias\n",
    "    w = 2*np.random.random(shapes) - 0.5 #we want initial w between -1 and 1\n",
    "    w_0 = np.random.random(1)\n",
    "    \n",
    "    # Initialize the function\n",
    "    f = w_0[0]\n",
    "    for i in range(0, X.shape[0]-1): #run over column elements\n",
    "        for j in range(0, X.shape[1]-1): #run over rows elements\n",
    "            f += w[i, j]*X[i,j]/n #adding each component of input multiplied by corresponding weight\n",
    "    # Pass it to the activation function and return it as an output\n",
    "    if act == 'Sigmoid':\n",
    "        output = sigmoid_act(f)\n",
    "    elif act == \"ReLU\":\n",
    "        output = ReLU_act(f)\n",
    "    return output"
   ]
  },
  {
   "cell_type": "markdown",
   "metadata": {},
   "source": [
    "An example of an output of the perceptron with the sigmoid activation is given below:"
   ]
  },
  {
   "cell_type": "code",
   "execution_count": null,
   "metadata": {},
   "outputs": [],
   "source": [
    "print('Output with sigmoid activator: ', perceptron(features, act = 'Sigmoid'))"
   ]
  },
  {
   "cell_type": "markdown",
   "metadata": {},
   "source": [
    "In the code cell below, try to generate the output by using the ReLU function. Simply observe the code above and fill - in the ellippsis with the name of the function that defined the desired activation."
   ]
  },
  {
   "cell_type": "code",
   "execution_count": null,
   "metadata": {},
   "outputs": [],
   "source": [
    "print('Output with ReLU activator: ', perceptron(features, act = \"...\"))\n"
   ]
  },
  {
   "cell_type": "markdown",
   "metadata": {},
   "source": [
    "**Question**\n",
    "\n",
    "The outputs we have obtained are different for the two activation functions. Can you explain why?"
   ]
  },
  {
   "cell_type": "markdown",
   "metadata": {},
   "source": [
    "**CLICK ON THIS CELL TO TYPE YOUR ANSWER**\n"
   ]
  },
  {
   "cell_type": "markdown",
   "metadata": {},
   "source": [
    "[Back to top](#Index:) \n",
    "\n",
    "<a id='part5'></a>\n",
    "\n",
    "## Single-Layer Perceptron in `sklearn`"
   ]
  },
  {
   "cell_type": "markdown",
   "metadata": {},
   "source": [
    "The library `sklearn` offers a built-in implementation of a single-layer perceptron. Even better, the implementation also knows how to calculate gradients of all parts of the perceptron, and use that information to implement back-propagation.\n",
    "\n",
    " In this next example, we use a perceptron learner to classify the famous [iris dataset](https://scikit-learn.org/stable/auto_examples/datasets/plot_iris_dataset.html) offered by the sklearn library.\n",
    " \n",
    "Run the code cell below to import the necessary libraries."
   ]
  },
  {
   "cell_type": "code",
   "execution_count": null,
   "metadata": {},
   "outputs": [],
   "source": [
    "from sklearn import datasets\n",
    "from sklearn.preprocessing import StandardScaler\n",
    "from sklearn.linear_model import Perceptron\n",
    "from sklearn.model_selection import train_test_split\n",
    "from sklearn.metrics import accuracy_score"
   ]
  },
  {
   "cell_type": "markdown",
   "metadata": {},
   "source": [
    "In the next cell, we import the iris dataset from `sklearn`."
   ]
  },
  {
   "cell_type": "code",
   "execution_count": null,
   "metadata": {},
   "outputs": [],
   "source": [
    "# Load the iris dataset\n",
    "iris = datasets.load_iris()\n",
    "\n",
    "# Create our X and y data\n",
    "X = iris.data\n",
    "y = iris.target"
   ]
  },
  {
   "cell_type": "markdown",
   "metadata": {},
   "source": [
    "Run the code bell below to visualize the first five rows of the  array `X`."
   ]
  },
  {
   "cell_type": "code",
   "execution_count": null,
   "metadata": {},
   "outputs": [],
   "source": [
    "X[:5]"
   ]
  },
  {
   "cell_type": "markdown",
   "metadata": {},
   "source": [
    "**Question**\n",
    "\n",
    "How many features (independent variables) does `X` have?\n"
   ]
  },
  {
   "cell_type": "markdown",
   "metadata": {},
   "source": [
    "**CLICK ON THIS CELL TO TYPE YOUR ANSWER**\n"
   ]
  },
  {
   "cell_type": "markdown",
   "metadata": {},
   "source": [
    "Run the code cell below to visualize the values of `y` for all of our data. We see that some have class label 0, some label 1, and some label 2. Thus we have three different kinds of irises that we are trying to predict. The first 5 of these are the labels corresponding to the first 5 rows of our `X` data above."
   ]
  },
  {
   "cell_type": "code",
   "execution_count": null,
   "metadata": {},
   "outputs": [],
   "source": [
    "# View the first 100 observations of our y data\n",
    "y"
   ]
  },
  {
   "cell_type": "markdown",
   "metadata": {},
   "source": [
    "## Split The Iris Data into Training and Test\n",
    "\n",
    "Next, we need to split `X` and `y` into a training and a testing set. \n",
    "\n",
    "This can be achieved by using the function `train_test_split` from `sklearn`.\n",
    "\n",
    "In the code cell below, fill in the ellipsis by setting the argument `test_size = 0.25`"
   ]
  },
  {
   "cell_type": "code",
   "execution_count": null,
   "metadata": {},
   "outputs": [],
   "source": [
    "# Split the data into 75% training data and 25% test data\n",
    "X_train, X_test, y_train, y_test = train_test_split(X, y, test_size=...)\n",
    "\n",
    "X_train.shape, X_test.shape"
   ]
  },
  {
   "cell_type": "markdown",
   "metadata": {},
   "source": [
    "## Preprocess the `X` Data by Scaling\n",
    "\n",
    "It is often standard practice to standardize all the features to have mean equal to zero and unit variance. Standardization of a dataset is a common requirement for many machine learning estimators: they might behave badly if the individual features do not more or less look like standard normally distributed data (e.g., Gaussian with 0 mean and unit variance).\n",
    "\n",
    "We can accomplish this by calling the function `StandardScaler` and by fitting it over the `X_train` set.\n",
    "\n",
    "Run the code cell below:"
   ]
  },
  {
   "cell_type": "code",
   "execution_count": null,
   "metadata": {},
   "outputs": [],
   "source": [
    "sc = StandardScaler()\n",
    "sc.fit(X_train)"
   ]
  },
  {
   "cell_type": "markdown",
   "metadata": {},
   "source": [
    "Finally, to complete this, we need to apply the scaler to both the `X_train` set and the `X_test` set.\n",
    "\n",
    "Run the code cell by filling the ellipsis with the `X_test` set."
   ]
  },
  {
   "cell_type": "code",
   "execution_count": null,
   "metadata": {},
   "outputs": [],
   "source": [
    "# Apply the scaler to the X training data\n",
    "X_train_std = sc.transform(X_train)\n",
    "\n",
    "# Apply the SAME scaler to the X test data\n",
    "X_test_std = sc.transform(...)"
   ]
  },
  {
   "cell_type": "markdown",
   "metadata": {},
   "source": [
    "# Train a Single-Layer Perceptron Model\n",
    "\n",
    "Next, we need to train the `Perceptron` classifier on the scaled `X_train` data with the corresponding labels in `Y_train`.\n",
    "\n",
    "Run the code cell below. Inside the classifier `Perceptron`, set the learning rate `eta0` equal to 0.1 and the `random_state` equal to 1. Note that by default, the sklearn `Perceptron` uses a ReLU activation function."
   ]
  },
  {
   "cell_type": "code",
   "execution_count": null,
   "metadata": {},
   "outputs": [],
   "source": [
    "# Create a perceptron object with the parameters:max_ieter (epochs) equal to 40 learning rate of 0.1\n",
    "ppn = Perceptron(max_iter = 40, eta0 = ..., random_state = ...)\n",
    "\n",
    "\n",
    "# Train the perceptron\n",
    "ppn.fit(X_train_std, y_train)"
   ]
  },
  {
   "cell_type": "markdown",
   "metadata": {},
   "source": [
    "Now we can use this trained perceptron, `ppn`, to predict the results for the **scaled** test data.\n",
    "\n",
    "In the code cell below, fill in the ellipsis with the name of the variable corresponding to the set above."
   ]
  },
  {
   "cell_type": "code",
   "execution_count": null,
   "metadata": {},
   "outputs": [],
   "source": [
    "# Apply the trained perceptron on the X data to make predicts for the y test data\n",
    "y_pred = ppn.predict(...)\n",
    "\n",
    "y_pred"
   ]
  },
  {
   "cell_type": "markdown",
   "metadata": {},
   "source": [
    "We can compare the predicted `y` with the true `y`. Run the code cells below to examine these."
   ]
  },
  {
   "cell_type": "code",
   "execution_count": null,
   "metadata": {},
   "outputs": [],
   "source": [
    "y_pred"
   ]
  },
  {
   "cell_type": "code",
   "execution_count": null,
   "metadata": {},
   "outputs": [],
   "source": [
    "y_test"
   ]
  },
  {
   "cell_type": "markdown",
   "metadata": {},
   "source": [
    "Finally, we can evaluate the accuracy of our model by using the function `accuracy_score` from `sklearn`, which uses the formula:\n",
    "\n",
    "$$\\text{accuracy} = 1 - \\frac{\\text{observations predicted wrong}}{\\text{total observations}}$$\n",
    "\n",
    "Run the code below to evaluate the accuracy of our model."
   ]
  },
  {
   "cell_type": "code",
   "execution_count": null,
   "metadata": {},
   "outputs": [],
   "source": [
    "# View the accuracy of the model, which is: 1 - (observations predicted wrong / total observations)\n",
    "print('Accuracy: %.2f' % accuracy_score(y_test, y_pred))"
   ]
  },
  {
   "cell_type": "markdown",
   "metadata": {},
   "source": [
    "# Train a Multilayer Perceptron (MLP) Model\n",
    "\n",
    "Finally, we'll train a multilayer perceptron (MLP) using the same training and test data. Run the cell below to train our `mlp` model, with three hidden layers each having 10 hidden nodes."
   ]
  },
  {
   "cell_type": "code",
   "execution_count": null,
   "metadata": {},
   "outputs": [],
   "source": [
    "from sklearn.neural_network import MLPClassifier\n",
    "mlp = MLPClassifier(hidden_layer_sizes=(10, 10, 10), max_iter=1000)\n",
    "mlp.fit(X_train_std, y_train)"
   ]
  },
  {
   "cell_type": "code",
   "execution_count": null,
   "metadata": {},
   "outputs": [],
   "source": [
    "mlp_y_pred = mlp.predict(X_test_std)\n",
    "mlp_y_pred"
   ]
  },
  {
   "cell_type": "code",
   "execution_count": null,
   "metadata": {},
   "outputs": [],
   "source": [
    "# View the accuracy of the model, which is: 1 - (observations predicted wrong / total observations)\n",
    "print('Accuracy: %.2f' % accuracy_score(y_test, mlp_y_pred))"
   ]
  },
  {
   "cell_type": "markdown",
   "metadata": {},
   "source": [
    "Which model, the single-layer perceptron or the multi-layer perceptron, performed better on test data? Why?"
   ]
  },
  {
   "cell_type": "code",
   "execution_count": null,
   "metadata": {},
   "outputs": [],
   "source": []
  }
 ],
 "metadata": {
  "kernelspec": {
   "display_name": "Python 3",
   "language": "python",
   "name": "python3"
  },
  "language_info": {
   "codemirror_mode": {
    "name": "ipython",
    "version": 3
   },
   "file_extension": ".py",
   "mimetype": "text/x-python",
   "name": "python",
   "nbconvert_exporter": "python",
   "pygments_lexer": "ipython3",
   "version": "3.6.9"
  }
 },
 "nbformat": 4,
 "nbformat_minor": 1
}
